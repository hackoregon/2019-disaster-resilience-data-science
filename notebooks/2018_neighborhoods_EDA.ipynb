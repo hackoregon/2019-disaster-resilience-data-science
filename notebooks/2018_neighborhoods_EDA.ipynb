{
 "cells": [
  {
   "cell_type": "markdown",
   "metadata": {},
   "source": [
    "S Tse\n",
    "7/31/19\n",
    "\n",
    "As requested by Erin Cooper, this notebook accesses our Disaster Resilience database to explore varous PDX neighborhood metrics of impact to help inform game development for the post-earthquake scenario."
   ]
  },
  {
   "cell_type": "code",
   "execution_count": 1,
   "metadata": {},
   "outputs": [],
   "source": [
    "import pandas as pd\n",
    "import psycopg2 \n",
    "import sqlalchemy\n",
    "from dotenv import load_dotenv, find_dotenv\n",
    "import os\n",
    "import seaborn as sns"
   ]
  },
  {
   "cell_type": "code",
   "execution_count": 2,
   "metadata": {},
   "outputs": [
    {
     "data": {
      "text/plain": [
       "True"
      ]
     },
     "execution_count": 2,
     "metadata": {},
     "output_type": "execute_result"
    }
   ],
   "source": [
    "# acquire DB secrets from .env file\n",
    "load_dotenv(find_dotenv())"
   ]
  },
  {
   "cell_type": "code",
   "execution_count": 3,
   "metadata": {},
   "outputs": [],
   "source": [
    "db_string = ('postgresql://{username}:{password}@{ipaddress}:{port}/{dbname}'\n",
    "             .format(username=os.environ.get(\"PG_USER\"),\n",
    "                    password=os.environ.get(\"PG_PASSWORD\"),\n",
    "                    ipaddress=os.environ.get(\"PG_HOST\"),\n",
    "                    port=os.environ.get(\"PG_PORT\"),\n",
    "                    dbname=os.environ.get(\"PG_DATABASE\")))"
   ]
  },
  {
   "cell_type": "code",
   "execution_count": 4,
   "metadata": {},
   "outputs": [],
   "source": [
    "db_conn = sqlalchemy.create_engine(db_string)"
   ]
  },
  {
   "cell_type": "code",
   "execution_count": 5,
   "metadata": {},
   "outputs": [],
   "source": [
    "df_neighborhood = pd.read_sql_query('''SELECT * FROM public.neighborhood;''', db_conn)"
   ]
  },
  {
   "cell_type": "code",
   "execution_count": 6,
   "metadata": {},
   "outputs": [
    {
     "name": "stdout",
     "output_type": "stream",
     "text": [
      "<class 'pandas.core.frame.DataFrame'>\n",
      "RangeIndex: 102 entries, 0 to 101\n",
      "Data columns (total 14 columns):\n",
      "id                      102 non-null int64\n",
      "name                    102 non-null object\n",
      "census_response_rate    102 non-null object\n",
      "quadrant                102 non-null object\n",
      "acres                   102 non-null object\n",
      "buildingcount           102 non-null object\n",
      "buildingsquarefeet      102 non-null object\n",
      "buildingcost            102 non-null object\n",
      "buildingweight          102 non-null object\n",
      "contentcost             102 non-null object\n",
      "permanentresidents      102 non-null object\n",
      "dayoccupants            102 non-null object\n",
      "nightoccupants          102 non-null object\n",
      "total_population        102 non-null object\n",
      "dtypes: int64(1), object(13)\n",
      "memory usage: 11.2+ KB\n"
     ]
    }
   ],
   "source": [
    "df_neighborhood.info()"
   ]
  },
  {
   "cell_type": "code",
   "execution_count": 7,
   "metadata": {},
   "outputs": [],
   "source": [
    "# grab only wet scenario impact data from loss_neighbhorood_census table\n",
    "df_ln = pd.read_sql_query('''SELECT * FROM public.loss_neighborhood_census WHERE scenario_cd = 'wet';''', db_conn)"
   ]
  },
  {
   "cell_type": "code",
   "execution_count": 8,
   "metadata": {},
   "outputs": [
    {
     "data": {
      "text/html": [
       "<div>\n",
       "<style scoped>\n",
       "    .dataframe tbody tr th:only-of-type {\n",
       "        vertical-align: middle;\n",
       "    }\n",
       "\n",
       "    .dataframe tbody tr th {\n",
       "        vertical-align: top;\n",
       "    }\n",
       "\n",
       "    .dataframe thead th {\n",
       "        text-align: right;\n",
       "    }\n",
       "</style>\n",
       "<table border=\"1\" class=\"dataframe\">\n",
       "  <thead>\n",
       "    <tr style=\"text-align: right;\">\n",
       "      <th></th>\n",
       "      <th>id</th>\n",
       "      <th>neighborhood_id</th>\n",
       "      <th>scenario_cd</th>\n",
       "      <th>buildingloss</th>\n",
       "      <th>contentloss</th>\n",
       "      <th>debris</th>\n",
       "      <th>displacedpopulation</th>\n",
       "      <th>buildings_nodamage</th>\n",
       "      <th>buildings_slightdamage</th>\n",
       "      <th>buildings_moderatedamage</th>\n",
       "      <th>...</th>\n",
       "      <th>casualtieslevel3_day</th>\n",
       "      <th>fatalitiestotal_day</th>\n",
       "      <th>casualtiestotal_night</th>\n",
       "      <th>casualtieslevel1_night</th>\n",
       "      <th>casualtieslevel2_night</th>\n",
       "      <th>casualtieslevel3_night</th>\n",
       "      <th>fatalitiestotal_night</th>\n",
       "      <th>injuriestotal_day</th>\n",
       "      <th>injuriestotal_night</th>\n",
       "      <th>displaced_percap</th>\n",
       "    </tr>\n",
       "  </thead>\n",
       "  <tbody>\n",
       "    <tr>\n",
       "      <th>0</th>\n",
       "      <td>1</td>\n",
       "      <td>0</td>\n",
       "      <td>wet</td>\n",
       "      <td>35125209.55624744</td>\n",
       "      <td>10720142.440013727</td>\n",
       "      <td>10035.620168880481</td>\n",
       "      <td>163.46085333765328</td>\n",
       "      <td>1441.614967637849</td>\n",
       "      <td>511.37554296428607</td>\n",
       "      <td>201.57811283957668</td>\n",
       "      <td>...</td>\n",
       "      <td>0.8430052781154163</td>\n",
       "      <td>1.6465635444182012</td>\n",
       "      <td>15.131460350016788</td>\n",
       "      <td>11.92249504316224</td>\n",
       "      <td>2.730758591401405</td>\n",
       "      <td>0.17959584954143226</td>\n",
       "      <td>0.29860474687585653</td>\n",
       "      <td>27.343893602409203</td>\n",
       "      <td>14.832849484105076</td>\n",
       "      <td>0.03135037463322848</td>\n",
       "    </tr>\n",
       "    <tr>\n",
       "      <th>1</th>\n",
       "      <td>2</td>\n",
       "      <td>1</td>\n",
       "      <td>wet</td>\n",
       "      <td>31343960.951078814</td>\n",
       "      <td>9647934.547535356</td>\n",
       "      <td>10714.385025891479</td>\n",
       "      <td>155.9115673004278</td>\n",
       "      <td>1863.3201044046627</td>\n",
       "      <td>742.7487814617582</td>\n",
       "      <td>318.7387005741461</td>\n",
       "      <td>...</td>\n",
       "      <td>0.20589264682878416</td>\n",
       "      <td>0.3863420860911759</td>\n",
       "      <td>16.428936812100115</td>\n",
       "      <td>12.919070596598257</td>\n",
       "      <td>2.906162615494618</td>\n",
       "      <td>0.22024787976265414</td>\n",
       "      <td>0.38345106580041727</td>\n",
       "      <td>11.390552262861274</td>\n",
       "      <td>16.045481091855542</td>\n",
       "      <td>0.02533911381446901</td>\n",
       "    </tr>\n",
       "    <tr>\n",
       "      <th>2</th>\n",
       "      <td>3</td>\n",
       "      <td>2</td>\n",
       "      <td>wet</td>\n",
       "      <td>7088838.432398895</td>\n",
       "      <td>3099131.2189266956</td>\n",
       "      <td>2904.767216926713</td>\n",
       "      <td>25.280997888155916</td>\n",
       "      <td>129.92713885158796</td>\n",
       "      <td>50.44230096591062</td>\n",
       "      <td>21.37502965729618</td>\n",
       "      <td>...</td>\n",
       "      <td>0.07035290633602144</td>\n",
       "      <td>0.1316583053654635</td>\n",
       "      <td>2.4508885428748703</td>\n",
       "      <td>1.8981573770638829</td>\n",
       "      <td>0.4591549029001778</td>\n",
       "      <td>0.03441799003205027</td>\n",
       "      <td>0.05915666562664338</td>\n",
       "      <td>3.2550840728188333</td>\n",
       "      <td>2.3917302699961107</td>\n",
       "      <td>0.05159387324113452</td>\n",
       "    </tr>\n",
       "    <tr>\n",
       "      <th>3</th>\n",
       "      <td>4</td>\n",
       "      <td>3</td>\n",
       "      <td>wet</td>\n",
       "      <td>86064662.587269</td>\n",
       "      <td>31353417.416837797</td>\n",
       "      <td>41736.81981519507</td>\n",
       "      <td>202.15955896303893</td>\n",
       "      <td>1055.699178644764</td>\n",
       "      <td>374.55082135523617</td>\n",
       "      <td>180.8973305954826</td>\n",
       "      <td>...</td>\n",
       "      <td>1.6242351507392196</td>\n",
       "      <td>3.148164223819302</td>\n",
       "      <td>29.324330225872693</td>\n",
       "      <td>22.167891045174535</td>\n",
       "      <td>5.419387072689939</td>\n",
       "      <td>0.5989011692772075</td>\n",
       "      <td>1.1381512975154011</td>\n",
       "      <td>52.905484667576985</td>\n",
       "      <td>28.18617928714167</td>\n",
       "      <td>0.03365960022694621</td>\n",
       "    </tr>\n",
       "    <tr>\n",
       "      <th>4</th>\n",
       "      <td>5</td>\n",
       "      <td>4</td>\n",
       "      <td>wet</td>\n",
       "      <td>71692023.80952379</td>\n",
       "      <td>21701240.99702381</td>\n",
       "      <td>28716.197916666664</td>\n",
       "      <td>264.3347321428571</td>\n",
       "      <td>107.48139880952382</td>\n",
       "      <td>61.1421130952381</td>\n",
       "      <td>41.83407738095238</td>\n",
       "      <td>...</td>\n",
       "      <td>1.2868612723214286</td>\n",
       "      <td>2.5219190848214286</td>\n",
       "      <td>26.872924107142865</td>\n",
       "      <td>19.58272470238095</td>\n",
       "      <td>5.433088169642857</td>\n",
       "      <td>0.6394950148809524</td>\n",
       "      <td>1.2176355282738096</td>\n",
       "      <td>40.48860978422619</td>\n",
       "      <td>25.65530788690476</td>\n",
       "      <td>0.3055892857142857</td>\n",
       "    </tr>\n",
       "  </tbody>\n",
       "</table>\n",
       "<p>5 rows × 25 columns</p>\n",
       "</div>"
      ],
      "text/plain": [
       "   id  neighborhood_id scenario_cd        buildingloss         contentloss  \\\n",
       "0   1                0         wet   35125209.55624744  10720142.440013727   \n",
       "1   2                1         wet  31343960.951078814   9647934.547535356   \n",
       "2   3                2         wet   7088838.432398895  3099131.2189266956   \n",
       "3   4                3         wet     86064662.587269  31353417.416837797   \n",
       "4   5                4         wet   71692023.80952379   21701240.99702381   \n",
       "\n",
       "               debris displacedpopulation  buildings_nodamage  \\\n",
       "0  10035.620168880481  163.46085333765328   1441.614967637849   \n",
       "1  10714.385025891479   155.9115673004278  1863.3201044046627   \n",
       "2   2904.767216926713  25.280997888155916  129.92713885158796   \n",
       "3   41736.81981519507  202.15955896303893   1055.699178644764   \n",
       "4  28716.197916666664   264.3347321428571  107.48139880952382   \n",
       "\n",
       "  buildings_slightdamage buildings_moderatedamage  ... casualtieslevel3_day  \\\n",
       "0     511.37554296428607       201.57811283957668  ...   0.8430052781154163   \n",
       "1      742.7487814617582        318.7387005741461  ...  0.20589264682878416   \n",
       "2      50.44230096591062        21.37502965729618  ...  0.07035290633602144   \n",
       "3     374.55082135523617        180.8973305954826  ...   1.6242351507392196   \n",
       "4       61.1421130952381        41.83407738095238  ...   1.2868612723214286   \n",
       "\n",
       "  fatalitiestotal_day casualtiestotal_night casualtieslevel1_night  \\\n",
       "0  1.6465635444182012    15.131460350016788      11.92249504316224   \n",
       "1  0.3863420860911759    16.428936812100115     12.919070596598257   \n",
       "2  0.1316583053654635    2.4508885428748703     1.8981573770638829   \n",
       "3   3.148164223819302    29.324330225872693     22.167891045174535   \n",
       "4  2.5219190848214286    26.872924107142865      19.58272470238095   \n",
       "\n",
       "  casualtieslevel2_night casualtieslevel3_night fatalitiestotal_night  \\\n",
       "0      2.730758591401405    0.17959584954143226   0.29860474687585653   \n",
       "1      2.906162615494618    0.22024787976265414   0.38345106580041727   \n",
       "2     0.4591549029001778    0.03441799003205027   0.05915666562664338   \n",
       "3      5.419387072689939     0.5989011692772075    1.1381512975154011   \n",
       "4      5.433088169642857     0.6394950148809524    1.2176355282738096   \n",
       "\n",
       "    injuriestotal_day injuriestotal_night     displaced_percap  \n",
       "0  27.343893602409203  14.832849484105076  0.03135037463322848  \n",
       "1  11.390552262861274  16.045481091855542  0.02533911381446901  \n",
       "2  3.2550840728188333  2.3917302699961107  0.05159387324113452  \n",
       "3  52.905484667576985   28.18617928714167  0.03365960022694621  \n",
       "4   40.48860978422619   25.65530788690476   0.3055892857142857  \n",
       "\n",
       "[5 rows x 25 columns]"
      ]
     },
     "execution_count": 8,
     "metadata": {},
     "output_type": "execute_result"
    }
   ],
   "source": [
    "df_ln.head()"
   ]
  },
  {
   "cell_type": "code",
   "execution_count": 9,
   "metadata": {},
   "outputs": [],
   "source": [
    "# drop the id column to prevent two columns with name id that mean different things\n",
    "df_ln.drop(columns='id', inplace=True)"
   ]
  },
  {
   "cell_type": "code",
   "execution_count": 10,
   "metadata": {},
   "outputs": [
    {
     "name": "stdout",
     "output_type": "stream",
     "text": [
      "<class 'pandas.core.frame.DataFrame'>\n",
      "RangeIndex: 102 entries, 0 to 101\n",
      "Data columns (total 24 columns):\n",
      "neighborhood_id              102 non-null int64\n",
      "scenario_cd                  102 non-null object\n",
      "buildingloss                 102 non-null object\n",
      "contentloss                  102 non-null object\n",
      "debris                       102 non-null object\n",
      "displacedpopulation          102 non-null object\n",
      "buildings_nodamage           102 non-null object\n",
      "buildings_slightdamage       102 non-null object\n",
      "buildings_moderatedamage     102 non-null object\n",
      "buildings_extensivedamage    102 non-null object\n",
      "buildings_completedamage     102 non-null object\n",
      "casualtiestotal_day          102 non-null object\n",
      "casualtieslevel1_day         102 non-null object\n",
      "casualtieslevel2_day         102 non-null object\n",
      "casualtieslevel3_day         102 non-null object\n",
      "fatalitiestotal_day          102 non-null object\n",
      "casualtiestotal_night        102 non-null object\n",
      "casualtieslevel1_night       102 non-null object\n",
      "casualtieslevel2_night       102 non-null object\n",
      "casualtieslevel3_night       102 non-null object\n",
      "fatalitiestotal_night        102 non-null object\n",
      "injuriestotal_day            102 non-null object\n",
      "injuriestotal_night          102 non-null object\n",
      "displaced_percap             102 non-null object\n",
      "dtypes: int64(1), object(23)\n",
      "memory usage: 19.2+ KB\n"
     ]
    }
   ],
   "source": [
    "df_ln.info()"
   ]
  },
  {
   "cell_type": "code",
   "execution_count": 11,
   "metadata": {},
   "outputs": [],
   "source": [
    "# join the two tables on neighborhood ID\n",
    "df_neighborhood = df_neighborhood.merge(df_ln, left_on='id', right_on='neighborhood_id', how='inner')"
   ]
  },
  {
   "cell_type": "code",
   "execution_count": 12,
   "metadata": {},
   "outputs": [
    {
     "name": "stdout",
     "output_type": "stream",
     "text": [
      "<class 'pandas.core.frame.DataFrame'>\n",
      "Int64Index: 102 entries, 0 to 101\n",
      "Data columns (total 38 columns):\n",
      "id                           102 non-null int64\n",
      "name                         102 non-null object\n",
      "census_response_rate         102 non-null object\n",
      "quadrant                     102 non-null object\n",
      "acres                        102 non-null object\n",
      "buildingcount                102 non-null object\n",
      "buildingsquarefeet           102 non-null object\n",
      "buildingcost                 102 non-null object\n",
      "buildingweight               102 non-null object\n",
      "contentcost                  102 non-null object\n",
      "permanentresidents           102 non-null object\n",
      "dayoccupants                 102 non-null object\n",
      "nightoccupants               102 non-null object\n",
      "total_population             102 non-null object\n",
      "neighborhood_id              102 non-null int64\n",
      "scenario_cd                  102 non-null object\n",
      "buildingloss                 102 non-null object\n",
      "contentloss                  102 non-null object\n",
      "debris                       102 non-null object\n",
      "displacedpopulation          102 non-null object\n",
      "buildings_nodamage           102 non-null object\n",
      "buildings_slightdamage       102 non-null object\n",
      "buildings_moderatedamage     102 non-null object\n",
      "buildings_extensivedamage    102 non-null object\n",
      "buildings_completedamage     102 non-null object\n",
      "casualtiestotal_day          102 non-null object\n",
      "casualtieslevel1_day         102 non-null object\n",
      "casualtieslevel2_day         102 non-null object\n",
      "casualtieslevel3_day         102 non-null object\n",
      "fatalitiestotal_day          102 non-null object\n",
      "casualtiestotal_night        102 non-null object\n",
      "casualtieslevel1_night       102 non-null object\n",
      "casualtieslevel2_night       102 non-null object\n",
      "casualtieslevel3_night       102 non-null object\n",
      "fatalitiestotal_night        102 non-null object\n",
      "injuriestotal_day            102 non-null object\n",
      "injuriestotal_night          102 non-null object\n",
      "displaced_percap             102 non-null object\n",
      "dtypes: int64(2), object(36)\n",
      "memory usage: 31.1+ KB\n"
     ]
    }
   ],
   "source": [
    "df_neighborhood.info()"
   ]
  },
  {
   "cell_type": "code",
   "execution_count": 13,
   "metadata": {},
   "outputs": [],
   "source": [
    "# convert dtype of numerical columns of interest \n",
    "\n",
    "convert_dict = {'census_response_rate': float,\n",
    "                'contentloss': float, \n",
    "                'buildingloss': float,\n",
    "                'casualtiestotal_day': float,\n",
    "                'debris': float,\n",
    "                'displacedpopulation':float          \n",
    "               } \n",
    "  \n",
    "df_neighborhood = df_neighborhood.astype(convert_dict) "
   ]
  },
  {
   "cell_type": "code",
   "execution_count": 14,
   "metadata": {},
   "outputs": [
    {
     "data": {
      "text/html": [
       "<div>\n",
       "<style scoped>\n",
       "    .dataframe tbody tr th:only-of-type {\n",
       "        vertical-align: middle;\n",
       "    }\n",
       "\n",
       "    .dataframe tbody tr th {\n",
       "        vertical-align: top;\n",
       "    }\n",
       "\n",
       "    .dataframe thead th {\n",
       "        text-align: right;\n",
       "    }\n",
       "</style>\n",
       "<table border=\"1\" class=\"dataframe\">\n",
       "  <thead>\n",
       "    <tr style=\"text-align: right;\">\n",
       "      <th></th>\n",
       "      <th>id</th>\n",
       "      <th>name</th>\n",
       "      <th>buildingloss</th>\n",
       "    </tr>\n",
       "  </thead>\n",
       "  <tbody>\n",
       "    <tr>\n",
       "      <th>23</th>\n",
       "      <td>23</td>\n",
       "      <td>DOWNTOWN</td>\n",
       "      <td>2.515984e+09</td>\n",
       "    </tr>\n",
       "    <tr>\n",
       "      <th>24</th>\n",
       "      <td>24</td>\n",
       "      <td>EAST COLUMBIA</td>\n",
       "      <td>1.203951e+09</td>\n",
       "    </tr>\n",
       "    <tr>\n",
       "      <th>67</th>\n",
       "      <td>67</td>\n",
       "      <td>PARKROSE</td>\n",
       "      <td>1.001833e+09</td>\n",
       "    </tr>\n",
       "    <tr>\n",
       "      <th>66</th>\n",
       "      <td>66</td>\n",
       "      <td>OVERLOOK</td>\n",
       "      <td>8.341900e+08</td>\n",
       "    </tr>\n",
       "    <tr>\n",
       "      <th>69</th>\n",
       "      <td>69</td>\n",
       "      <td>PEARL</td>\n",
       "      <td>7.907481e+08</td>\n",
       "    </tr>\n",
       "  </tbody>\n",
       "</table>\n",
       "</div>"
      ],
      "text/plain": [
       "    id           name  buildingloss\n",
       "23  23       DOWNTOWN  2.515984e+09\n",
       "24  24  EAST COLUMBIA  1.203951e+09\n",
       "67  67       PARKROSE  1.001833e+09\n",
       "66  66       OVERLOOK  8.341900e+08\n",
       "69  69          PEARL  7.907481e+08"
      ]
     },
     "execution_count": 14,
     "metadata": {},
     "output_type": "execute_result"
    }
   ],
   "source": [
    "# top 5 for highest content cost\n",
    "df_neighborhood[['id','name', 'buildingloss']].sort_values(by='buildingloss',ascending=False)[:5]"
   ]
  },
  {
   "cell_type": "code",
   "execution_count": 15,
   "metadata": {},
   "outputs": [
    {
     "data": {
      "text/plain": [
       "<matplotlib.axes._subplots.AxesSubplot at 0x18aae507710>"
      ]
     },
     "execution_count": 15,
     "metadata": {},
     "output_type": "execute_result"
    },
    {
     "data": {
      "image/png": "[encoded data removed]",
      "text/plain": [
       "<Figure size 432x288 with 1 Axes>"
      ]
     },
     "metadata": {
      "needs_background": "light"
     },
     "output_type": "display_data"
    }
   ],
   "source": [
    "sns.violinplot(data=df_neighborhood['buildingloss'], inner=\"points\", color='red')"
   ]
  },
  {
   "cell_type": "code",
   "execution_count": 16,
   "metadata": {},
   "outputs": [
    {
     "data": {
      "text/html": [
       "<div>\n",
       "<style scoped>\n",
       "    .dataframe tbody tr th:only-of-type {\n",
       "        vertical-align: middle;\n",
       "    }\n",
       "\n",
       "    .dataframe tbody tr th {\n",
       "        vertical-align: top;\n",
       "    }\n",
       "\n",
       "    .dataframe thead th {\n",
       "        text-align: right;\n",
       "    }\n",
       "</style>\n",
       "<table border=\"1\" class=\"dataframe\">\n",
       "  <thead>\n",
       "    <tr style=\"text-align: right;\">\n",
       "      <th></th>\n",
       "      <th>id</th>\n",
       "      <th>name</th>\n",
       "      <th>contentloss</th>\n",
       "    </tr>\n",
       "  </thead>\n",
       "  <tbody>\n",
       "    <tr>\n",
       "      <th>23</th>\n",
       "      <td>23</td>\n",
       "      <td>DOWNTOWN</td>\n",
       "      <td>9.391970e+08</td>\n",
       "    </tr>\n",
       "    <tr>\n",
       "      <th>24</th>\n",
       "      <td>24</td>\n",
       "      <td>EAST COLUMBIA</td>\n",
       "      <td>6.552390e+08</td>\n",
       "    </tr>\n",
       "    <tr>\n",
       "      <th>67</th>\n",
       "      <td>67</td>\n",
       "      <td>PARKROSE</td>\n",
       "      <td>4.546555e+08</td>\n",
       "    </tr>\n",
       "    <tr>\n",
       "      <th>66</th>\n",
       "      <td>66</td>\n",
       "      <td>OVERLOOK</td>\n",
       "      <td>4.369328e+08</td>\n",
       "    </tr>\n",
       "    <tr>\n",
       "      <th>90</th>\n",
       "      <td>91</td>\n",
       "      <td>SUNDERLAND</td>\n",
       "      <td>3.444396e+08</td>\n",
       "    </tr>\n",
       "  </tbody>\n",
       "</table>\n",
       "</div>"
      ],
      "text/plain": [
       "    id           name   contentloss\n",
       "23  23       DOWNTOWN  9.391970e+08\n",
       "24  24  EAST COLUMBIA  6.552390e+08\n",
       "67  67       PARKROSE  4.546555e+08\n",
       "66  66       OVERLOOK  4.369328e+08\n",
       "90  91     SUNDERLAND  3.444396e+08"
      ]
     },
     "execution_count": 16,
     "metadata": {},
     "output_type": "execute_result"
    }
   ],
   "source": [
    "# top 5 for highest content cost\n",
    "df_neighborhood[['id','name', 'contentloss']].sort_values(by='contentloss',ascending=False)[:5]"
   ]
  },
  {
   "cell_type": "code",
   "execution_count": 17,
   "metadata": {},
   "outputs": [
    {
     "data": {
      "text/plain": [
       "Text(0.5, 1.0, 'Violin Plot of Neighborhood contentloss')"
      ]
     },
     "execution_count": 17,
     "metadata": {},
     "output_type": "execute_result"
    },
    {
     "data": {
      "image/png": "[encoded data removed]",
      "text/plain": [
       "<Figure size 432x288 with 1 Axes>"
      ]
     },
     "metadata": {
      "needs_background": "light"
     },
     "output_type": "display_data"
    }
   ],
   "source": [
    "sns.violinplot(data=df_neighborhood['contentloss'], inner=\"points\",color='blue').set_title('Violin Plot of Neighborhood contentloss')"
   ]
  },
  {
   "cell_type": "code",
   "execution_count": 18,
   "metadata": {},
   "outputs": [
    {
     "data": {
      "text/html": [
       "<div>\n",
       "<style scoped>\n",
       "    .dataframe tbody tr th:only-of-type {\n",
       "        vertical-align: middle;\n",
       "    }\n",
       "\n",
       "    .dataframe tbody tr th {\n",
       "        vertical-align: top;\n",
       "    }\n",
       "\n",
       "    .dataframe thead th {\n",
       "        text-align: right;\n",
       "    }\n",
       "</style>\n",
       "<table border=\"1\" class=\"dataframe\">\n",
       "  <thead>\n",
       "    <tr style=\"text-align: right;\">\n",
       "      <th></th>\n",
       "      <th>id</th>\n",
       "      <th>name</th>\n",
       "      <th>census_response_rate</th>\n",
       "    </tr>\n",
       "  </thead>\n",
       "  <tbody>\n",
       "    <tr>\n",
       "      <th>93</th>\n",
       "      <td>94</td>\n",
       "      <td>TRYON CREEK AREA</td>\n",
       "      <td>91.004122</td>\n",
       "    </tr>\n",
       "    <tr>\n",
       "      <th>18</th>\n",
       "      <td>18</td>\n",
       "      <td>COLLINS VIEW</td>\n",
       "      <td>90.408141</td>\n",
       "    </tr>\n",
       "    <tr>\n",
       "      <th>0</th>\n",
       "      <td>0</td>\n",
       "      <td>ALAMEDA</td>\n",
       "      <td>90.066127</td>\n",
       "    </tr>\n",
       "    <tr>\n",
       "      <th>12</th>\n",
       "      <td>12</td>\n",
       "      <td>BRIDLEMILE/SOUTHWEST HILLS</td>\n",
       "      <td>89.892406</td>\n",
       "    </tr>\n",
       "    <tr>\n",
       "      <th>76</th>\n",
       "      <td>77</td>\n",
       "      <td>RIVERVIEW CEMETERY AREA</td>\n",
       "      <td>89.261505</td>\n",
       "    </tr>\n",
       "  </tbody>\n",
       "</table>\n",
       "</div>"
      ],
      "text/plain": [
       "    id                        name  census_response_rate\n",
       "93  94            TRYON CREEK AREA             91.004122\n",
       "18  18                COLLINS VIEW             90.408141\n",
       "0    0                     ALAMEDA             90.066127\n",
       "12  12  BRIDLEMILE/SOUTHWEST HILLS             89.892406\n",
       "76  77     RIVERVIEW CEMETERY AREA             89.261505"
      ]
     },
     "execution_count": 18,
     "metadata": {},
     "output_type": "execute_result"
    }
   ],
   "source": [
    "# top 5 for census response rate (indicator of social capital)\n",
    "df_neighborhood[['id','name', 'census_response_rate']].sort_values(by='census_response_rate',ascending=False)[:5]"
   ]
  },
  {
   "cell_type": "code",
   "execution_count": 19,
   "metadata": {},
   "outputs": [
    {
     "data": {
      "text/html": [
       "<div>\n",
       "<style scoped>\n",
       "    .dataframe tbody tr th:only-of-type {\n",
       "        vertical-align: middle;\n",
       "    }\n",
       "\n",
       "    .dataframe tbody tr th {\n",
       "        vertical-align: top;\n",
       "    }\n",
       "\n",
       "    .dataframe thead th {\n",
       "        text-align: right;\n",
       "    }\n",
       "</style>\n",
       "<table border=\"1\" class=\"dataframe\">\n",
       "  <thead>\n",
       "    <tr style=\"text-align: right;\">\n",
       "      <th></th>\n",
       "      <th>id</th>\n",
       "      <th>name</th>\n",
       "      <th>census_response_rate</th>\n",
       "    </tr>\n",
       "  </thead>\n",
       "  <tbody>\n",
       "    <tr>\n",
       "      <th>31</th>\n",
       "      <td>31</td>\n",
       "      <td>GLENFAIR</td>\n",
       "      <td>64.584736</td>\n",
       "    </tr>\n",
       "    <tr>\n",
       "      <th>73</th>\n",
       "      <td>74</td>\n",
       "      <td>POWELLHURST-GILBERT</td>\n",
       "      <td>69.680139</td>\n",
       "    </tr>\n",
       "    <tr>\n",
       "      <th>67</th>\n",
       "      <td>67</td>\n",
       "      <td>PARKROSE</td>\n",
       "      <td>70.947678</td>\n",
       "    </tr>\n",
       "    <tr>\n",
       "      <th>65</th>\n",
       "      <td>65</td>\n",
       "      <td>OLD TOWN/ CHINATOWN</td>\n",
       "      <td>71.146176</td>\n",
       "    </tr>\n",
       "    <tr>\n",
       "      <th>71</th>\n",
       "      <td>71</td>\n",
       "      <td>PORTLAND PDX AIRPORT AREA</td>\n",
       "      <td>71.700000</td>\n",
       "    </tr>\n",
       "  </tbody>\n",
       "</table>\n",
       "</div>"
      ],
      "text/plain": [
       "    id                       name  census_response_rate\n",
       "31  31                   GLENFAIR             64.584736\n",
       "73  74        POWELLHURST-GILBERT             69.680139\n",
       "67  67                   PARKROSE             70.947678\n",
       "65  65        OLD TOWN/ CHINATOWN             71.146176\n",
       "71  71  PORTLAND PDX AIRPORT AREA             71.700000"
      ]
     },
     "execution_count": 19,
     "metadata": {},
     "output_type": "execute_result"
    }
   ],
   "source": [
    "# bottom 5 for census response rate \n",
    "df_neighborhood[['id','name', 'census_response_rate']].sort_values(by='census_response_rate',ascending=True)[:5]"
   ]
  },
  {
   "cell_type": "code",
   "execution_count": 20,
   "metadata": {},
   "outputs": [
    {
     "data": {
      "text/plain": [
       "Text(0.5, 1.0, 'Violin Plot of Neighborhood Census Reponse Rate')"
      ]
     },
     "execution_count": 20,
     "metadata": {},
     "output_type": "execute_result"
    },
    {
     "data": {
      "image/png": "[encoded data removed]",
      "text/plain": [
       "<Figure size 432x288 with 1 Axes>"
      ]
     },
     "metadata": {
      "needs_background": "light"
     },
     "output_type": "display_data"
    }
   ],
   "source": [
    "sns.violinplot(data=df_neighborhood['census_response_rate'], inner=\"points\",color='green').set_title('Violin Plot of Neighborhood Census Reponse Rate')"
   ]
  },
  {
   "cell_type": "code",
   "execution_count": 21,
   "metadata": {},
   "outputs": [
    {
     "data": {
      "text/html": [
       "<div>\n",
       "<style scoped>\n",
       "    .dataframe tbody tr th:only-of-type {\n",
       "        vertical-align: middle;\n",
       "    }\n",
       "\n",
       "    .dataframe tbody tr th {\n",
       "        vertical-align: top;\n",
       "    }\n",
       "\n",
       "    .dataframe thead th {\n",
       "        text-align: right;\n",
       "    }\n",
       "</style>\n",
       "<table border=\"1\" class=\"dataframe\">\n",
       "  <thead>\n",
       "    <tr style=\"text-align: right;\">\n",
       "      <th></th>\n",
       "      <th>id</th>\n",
       "      <th>name</th>\n",
       "      <th>casualtiestotal_day</th>\n",
       "    </tr>\n",
       "  </thead>\n",
       "  <tbody>\n",
       "    <tr>\n",
       "      <th>23</th>\n",
       "      <td>23</td>\n",
       "      <td>DOWNTOWN</td>\n",
       "      <td>1918.076200</td>\n",
       "    </tr>\n",
       "    <tr>\n",
       "      <th>24</th>\n",
       "      <td>24</td>\n",
       "      <td>EAST COLUMBIA</td>\n",
       "      <td>989.067065</td>\n",
       "    </tr>\n",
       "    <tr>\n",
       "      <th>14</th>\n",
       "      <td>14</td>\n",
       "      <td>BUCKMAN</td>\n",
       "      <td>765.814833</td>\n",
       "    </tr>\n",
       "    <tr>\n",
       "      <th>67</th>\n",
       "      <td>67</td>\n",
       "      <td>PARKROSE</td>\n",
       "      <td>740.820155</td>\n",
       "    </tr>\n",
       "    <tr>\n",
       "      <th>66</th>\n",
       "      <td>66</td>\n",
       "      <td>OVERLOOK</td>\n",
       "      <td>723.315079</td>\n",
       "    </tr>\n",
       "  </tbody>\n",
       "</table>\n",
       "</div>"
      ],
      "text/plain": [
       "    id           name  casualtiestotal_day\n",
       "23  23       DOWNTOWN          1918.076200\n",
       "24  24  EAST COLUMBIA           989.067065\n",
       "14  14        BUCKMAN           765.814833\n",
       "67  67       PARKROSE           740.820155\n",
       "66  66       OVERLOOK           723.315079"
      ]
     },
     "execution_count": 21,
     "metadata": {},
     "output_type": "execute_result"
    }
   ],
   "source": [
    "# top 5 for casualtiestotal_day\n",
    "df_neighborhood[['id','name', 'casualtiestotal_day']].sort_values(by='casualtiestotal_day',ascending=False)[:5]"
   ]
  },
  {
   "cell_type": "code",
   "execution_count": 22,
   "metadata": {},
   "outputs": [
    {
     "data": {
      "text/plain": [
       "Text(0.5, 1.0, 'Violin Plot of Neighborhood casualtiestotal_day')"
      ]
     },
     "execution_count": 22,
     "metadata": {},
     "output_type": "execute_result"
    },
    {
     "data": {
      "image/png": "[encoded data removed]",
      "text/plain": [
       "<Figure size 432x288 with 1 Axes>"
      ]
     },
     "metadata": {
      "needs_background": "light"
     },
     "output_type": "display_data"
    }
   ],
   "source": [
    "sns.violinplot(data=df_neighborhood['casualtiestotal_day'], inner=\"points\",color='pink').set_title('Violin Plot of Neighborhood casualtiestotal_day')"
   ]
  },
  {
   "cell_type": "code",
   "execution_count": 23,
   "metadata": {},
   "outputs": [
    {
     "data": {
      "text/html": [
       "<div>\n",
       "<style scoped>\n",
       "    .dataframe tbody tr th:only-of-type {\n",
       "        vertical-align: middle;\n",
       "    }\n",
       "\n",
       "    .dataframe tbody tr th {\n",
       "        vertical-align: top;\n",
       "    }\n",
       "\n",
       "    .dataframe thead th {\n",
       "        text-align: right;\n",
       "    }\n",
       "</style>\n",
       "<table border=\"1\" class=\"dataframe\">\n",
       "  <thead>\n",
       "    <tr style=\"text-align: right;\">\n",
       "      <th></th>\n",
       "      <th>id</th>\n",
       "      <th>name</th>\n",
       "      <th>debris</th>\n",
       "    </tr>\n",
       "  </thead>\n",
       "  <tbody>\n",
       "    <tr>\n",
       "      <th>23</th>\n",
       "      <td>23</td>\n",
       "      <td>DOWNTOWN</td>\n",
       "      <td>1.466380e+06</td>\n",
       "    </tr>\n",
       "    <tr>\n",
       "      <th>24</th>\n",
       "      <td>24</td>\n",
       "      <td>EAST COLUMBIA</td>\n",
       "      <td>5.982837e+05</td>\n",
       "    </tr>\n",
       "    <tr>\n",
       "      <th>67</th>\n",
       "      <td>67</td>\n",
       "      <td>PARKROSE</td>\n",
       "      <td>5.150666e+05</td>\n",
       "    </tr>\n",
       "    <tr>\n",
       "      <th>69</th>\n",
       "      <td>69</td>\n",
       "      <td>PEARL</td>\n",
       "      <td>4.777734e+05</td>\n",
       "    </tr>\n",
       "    <tr>\n",
       "      <th>66</th>\n",
       "      <td>66</td>\n",
       "      <td>OVERLOOK</td>\n",
       "      <td>4.192859e+05</td>\n",
       "    </tr>\n",
       "  </tbody>\n",
       "</table>\n",
       "</div>"
      ],
      "text/plain": [
       "    id           name        debris\n",
       "23  23       DOWNTOWN  1.466380e+06\n",
       "24  24  EAST COLUMBIA  5.982837e+05\n",
       "67  67       PARKROSE  5.150666e+05\n",
       "69  69          PEARL  4.777734e+05\n",
       "66  66       OVERLOOK  4.192859e+05"
      ]
     },
     "execution_count": 23,
     "metadata": {},
     "output_type": "execute_result"
    }
   ],
   "source": [
    "# top 5 for debris\n",
    "df_neighborhood[['id','name', 'debris']].sort_values(by='debris',ascending=False)[:5]"
   ]
  },
  {
   "cell_type": "code",
   "execution_count": 24,
   "metadata": {},
   "outputs": [
    {
     "data": {
      "text/plain": [
       "Text(0.5, 1.0, 'Violin Plot of Neighborhood debris')"
      ]
     },
     "execution_count": 24,
     "metadata": {},
     "output_type": "execute_result"
    },
    {
     "data": {
      "image/png": "[encoded data removed]",
      "text/plain": [
       "<Figure size 432x288 with 1 Axes>"
      ]
     },
     "metadata": {
      "needs_background": "light"
     },
     "output_type": "display_data"
    }
   ],
   "source": [
    "sns.violinplot(data=df_neighborhood['debris'], inner=\"points\",color='yellow').set_title('Violin Plot of Neighborhood debris')"
   ]
  },
  {
   "cell_type": "code",
   "execution_count": 25,
   "metadata": {},
   "outputs": [
    {
     "data": {
      "text/html": [
       "<div>\n",
       "<style scoped>\n",
       "    .dataframe tbody tr th:only-of-type {\n",
       "        vertical-align: middle;\n",
       "    }\n",
       "\n",
       "    .dataframe tbody tr th {\n",
       "        vertical-align: top;\n",
       "    }\n",
       "\n",
       "    .dataframe thead th {\n",
       "        text-align: right;\n",
       "    }\n",
       "</style>\n",
       "<table border=\"1\" class=\"dataframe\">\n",
       "  <thead>\n",
       "    <tr style=\"text-align: right;\">\n",
       "      <th></th>\n",
       "      <th>id</th>\n",
       "      <th>name</th>\n",
       "      <th>displacedpopulation</th>\n",
       "    </tr>\n",
       "  </thead>\n",
       "  <tbody>\n",
       "    <tr>\n",
       "      <th>23</th>\n",
       "      <td>23</td>\n",
       "      <td>DOWNTOWN</td>\n",
       "      <td>2251.888094</td>\n",
       "    </tr>\n",
       "    <tr>\n",
       "      <th>69</th>\n",
       "      <td>69</td>\n",
       "      <td>PEARL</td>\n",
       "      <td>1833.105676</td>\n",
       "    </tr>\n",
       "    <tr>\n",
       "      <th>32</th>\n",
       "      <td>32</td>\n",
       "      <td>GOOSE HOLLOW</td>\n",
       "      <td>1603.331238</td>\n",
       "    </tr>\n",
       "    <tr>\n",
       "      <th>61</th>\n",
       "      <td>61</td>\n",
       "      <td>NORTHWEST DISTRICT</td>\n",
       "      <td>1472.075945</td>\n",
       "    </tr>\n",
       "    <tr>\n",
       "      <th>65</th>\n",
       "      <td>65</td>\n",
       "      <td>OLD TOWN/ CHINATOWN</td>\n",
       "      <td>1420.905737</td>\n",
       "    </tr>\n",
       "  </tbody>\n",
       "</table>\n",
       "</div>"
      ],
      "text/plain": [
       "    id                 name  displacedpopulation\n",
       "23  23             DOWNTOWN          2251.888094\n",
       "69  69                PEARL          1833.105676\n",
       "32  32         GOOSE HOLLOW          1603.331238\n",
       "61  61   NORTHWEST DISTRICT          1472.075945\n",
       "65  65  OLD TOWN/ CHINATOWN          1420.905737"
      ]
     },
     "execution_count": 25,
     "metadata": {},
     "output_type": "execute_result"
    }
   ],
   "source": [
    "# top 5 for displaced population\n",
    "df_neighborhood[['id','name', 'displacedpopulation']].sort_values(by='displacedpopulation',ascending=False)[:5]"
   ]
  },
  {
   "cell_type": "code",
   "execution_count": 26,
   "metadata": {},
   "outputs": [
    {
     "data": {
      "text/plain": [
       "Text(0.5, 1.0, 'Violin Plot of Neighborhood displacedpopulation')"
      ]
     },
     "execution_count": 26,
     "metadata": {},
     "output_type": "execute_result"
    },
    {
     "data": {
      "image/png": "[encoded data removed]",
      "text/plain": [
       "<Figure size 432x288 with 1 Axes>"
      ]
     },
     "metadata": {
      "needs_background": "light"
     },
     "output_type": "display_data"
    }
   ],
   "source": [
    "sns.violinplot(data=df_neighborhood['displacedpopulation'], inner=\"points\",color='grey').set_title('Violin Plot of Neighborhood displacedpopulation')"
   ]
  }
 ],
 "metadata": {
  "kernelspec": {
   "display_name": "Python 3",
   "language": "python",
   "name": "python3"
  },
  "language_info": {
   "codemirror_mode": {
    "name": "ipython",
    "version": 3
   },
   "file_extension": ".py",
   "mimetype": "text/x-python",
   "name": "python",
   "nbconvert_exporter": "python",
   "pygments_lexer": "ipython3",
   "version": "3.7.3"
  }
 },
 "nbformat": 4,
 "nbformat_minor": 2
}
