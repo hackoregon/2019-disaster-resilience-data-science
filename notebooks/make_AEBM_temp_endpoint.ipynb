{
 "cells": [
  {
   "cell_type": "markdown",
   "metadata": {},
   "source": [
    "# Libraries"
   ]
  },
  {
   "cell_type": "code",
   "execution_count": 1,
   "metadata": {},
   "outputs": [
    {
     "data": {
      "application/javascript": [
       "IPython.OutputArea.auto_scroll_threshold = 9999;\n"
      ],
      "text/plain": [
       "<IPython.core.display.Javascript object>"
      ]
     },
     "metadata": {},
     "output_type": "display_data"
    }
   ],
   "source": [
    "%%javascript\n",
    "IPython.OutputArea.auto_scroll_threshold = 9999;"
   ]
  },
  {
   "cell_type": "code",
   "execution_count": 2,
   "metadata": {},
   "outputs": [],
   "source": [
    "%matplotlib inline"
   ]
  },
  {
   "cell_type": "code",
   "execution_count": 31,
   "metadata": {},
   "outputs": [],
   "source": [
    "import datetime as dt"
   ]
  },
  {
   "cell_type": "code",
   "execution_count": null,
   "metadata": {},
   "outputs": [],
   "source": [
    "# from ipywidgets import interact, interactive, fixed, interact_manual\n",
    "# import ipywidgets as widgets\n",
    "# import contextily as ctx\n",
    "# pd.set_option('display.max_columns', None)  \n",
    "# pd.set_option('display.expand_frame_repr', False)\n",
    "# pd.set_option('max_colwidth', -1)\n",
    "# import tilemapbase\n",
    "# import folium"
   ]
  },
  {
   "cell_type": "code",
   "execution_count": 3,
   "metadata": {},
   "outputs": [],
   "source": [
    "import geopandas as gpd\n",
    "import pandas as pd\n",
    "import matplotlib.pyplot as plt\n",
    "import numpy as np\n",
    "\n",
    "import os\n",
    "from IPython.display import display\n",
    "import json"
   ]
  },
  {
   "cell_type": "markdown",
   "metadata": {},
   "source": [
    "# Dataset import and preparation"
   ]
  },
  {
   "cell_type": "code",
   "execution_count": 4,
   "metadata": {},
   "outputs": [],
   "source": [
    "aebm_cascadia = pd.read_parquet(\"./AEBM_CasadiaResults.parquet\")\n",
    "# Convert from dataframe to geodataframe\n",
    "aebm_cascadia_gdf = gpd.GeoDataFrame(\n",
    "    aebm_cascadia, geometry=gpd.points_from_xy(\n",
    "        aebm_cascadia.Longitude, aebm_cascadia.Latitude))\n",
    "aebm_cascadia_gdf.crs = {'init': 'epsg:4326'}"
   ]
  },
  {
   "cell_type": "code",
   "execution_count": 5,
   "metadata": {},
   "outputs": [],
   "source": [
    "# Create new columns for building class, type, design level\n",
    "aebm_cascadia_gdf['occupancy_class'] = aebm_cascadia_gdf['ProfileNam'].str[:4]\n",
    "aebm_cascadia_gdf['building_type'] = aebm_cascadia_gdf['ProfileNam'].str[4:6]\n",
    "aebm_cascadia_gdf['DesignLevel'] = aebm_cascadia_gdf['ProfileNam'].str[6:8]"
   ]
  },
  {
   "cell_type": "code",
   "execution_count": 6,
   "metadata": {},
   "outputs": [],
   "source": [
    "aebm_cascadia_gdf['loss_ratio'] = (aebm_cascadia_gdf.LossStruct \n",
    "                                   + aebm_cascadia_gdf.LossNonStr\n",
    "                                   + aebm_cascadia_gdf.LossNonS_1)/aebm_cascadia_gdf.BldgValue"
   ]
  },
  {
   "cell_type": "code",
   "execution_count": 7,
   "metadata": {},
   "outputs": [],
   "source": [
    "null = None"
   ]
  },
  {
   "cell_type": "code",
   "execution_count": 8,
   "metadata": {},
   "outputs": [],
   "source": [
    "aebm_cascadia_gdf['OccAgg'] = aebm_cascadia_gdf['occupancy_class'].apply(\n",
    "    lambda occ: str(occ)[:3])"
   ]
  },
  {
   "cell_type": "code",
   "execution_count": 9,
   "metadata": {},
   "outputs": [],
   "source": [
    "aebm_cascadia_gdf['ComLossRatio'] = aebm_cascadia_gdf.apply(\n",
    "    lambda row: row.loss_ratio if row.OccAgg == 'COM' else null, axis=1)"
   ]
  },
  {
   "cell_type": "code",
   "execution_count": 10,
   "metadata": {},
   "outputs": [],
   "source": [
    "aebm_cascadia_gdf['ResLossRatio'] = aebm_cascadia_gdf.apply(\n",
    "    lambda row: row.loss_ratio if row.OccAgg == 'RES' else null, axis=1)"
   ]
  },
  {
   "cell_type": "markdown",
   "metadata": {},
   "source": [
    "# round up casualties"
   ]
  },
  {
   "cell_type": "code",
   "execution_count": 11,
   "metadata": {},
   "outputs": [],
   "source": [
    "def round_up(number):\n",
    "    return np.ceil(number / 10.) * 10."
   ]
  },
  {
   "cell_type": "code",
   "execution_count": 12,
   "metadata": {},
   "outputs": [],
   "source": [
    "aebm_cascadia_gdf['DaytimeInjuries'] = aebm_cascadia_gdf.apply(\n",
    "    lambda row: round_up(row.CasDayLvl1 + row.CasDayLvl2 + row.CasDayLvl3), axis=1)"
   ]
  },
  {
   "cell_type": "code",
   "execution_count": 13,
   "metadata": {},
   "outputs": [],
   "source": [
    "aebm_cascadia_gdf['DaytimeDeaths'] = aebm_cascadia_gdf.apply(\n",
    "    lambda row: round_up(row.CasDayLvl4), axis=1)"
   ]
  },
  {
   "cell_type": "code",
   "execution_count": 14,
   "metadata": {},
   "outputs": [],
   "source": [
    "aebm_cascadia_gdf['NighttimeInjuries'] = aebm_cascadia_gdf.apply(\n",
    "    lambda row: round_up(row.CasNight_1 + row.CasNight_2 + row.CasNight_3), axis=1)\n",
    "\n",
    "aebm_cascadia_gdf['NighttimeDeaths'] = aebm_cascadia_gdf.apply(\n",
    "    lambda row: round_up(row.CasNightLv), axis=1)"
   ]
  },
  {
   "cell_type": "code",
   "execution_count": 18,
   "metadata": {},
   "outputs": [],
   "source": [
    "aebm_cascadia_gdf = aebm_cascadia_gdf.rename(\n",
    "    columns={\"eqAebmId\": \"id\"})"
   ]
  },
  {
   "cell_type": "code",
   "execution_count": 15,
   "metadata": {},
   "outputs": [],
   "source": [
    "save_building_loss_shp = False\n",
    "save_casualties_shp = False"
   ]
  },
  {
   "cell_type": "code",
   "execution_count": 17,
   "metadata": {},
   "outputs": [],
   "source": [
    "building_loss_cols = [\n",
    "        'id', \n",
    "        'geometry',  # this is needed\n",
    "        'ComLossRatio', \n",
    "        'ResLossRatio'\n",
    "       ]\n",
    "\n",
    "loss_ratio_gdf = aebm_cascadia_gdf.rename.copy()[building_loss_cols]\n",
    "if save_building_loss_shp:\n",
    "    output_file = \"building_loss_ratio.json\"\n",
    "    print(f'Saving file to {output_file}')\n",
    "    loss_ratio_gdf.to_file(output_file, drive=\"GeoJSON\")"
   ]
  },
  {
   "cell_type": "code",
   "execution_count": 20,
   "metadata": {},
   "outputs": [],
   "source": [
    "casualties_cols = ['id', \n",
    "        'geometry',  # this is needed\n",
    "        'DaytimeInjuries', \n",
    "        'DaytimeDeaths', \n",
    "        'NighttimeInjuries', \n",
    "        'NighttimeDeaths'\n",
    "       ]\n",
    "casualties_gdf = aebm_cascadia_gdf.copy()[casualties_cols]\n",
    "if save_casualties_shp:\n",
    "    output_file = \"casualties.json\"\n",
    "    print(f'Saving file to {output_file}')\n",
    "    casualties_gdf.to_file(output_file, drive=\"GeoJSON\")"
   ]
  },
  {
   "cell_type": "markdown",
   "metadata": {},
   "source": [
    "# create helper function"
   ]
  },
  {
   "cell_type": "code",
   "execution_count": 19,
   "metadata": {},
   "outputs": [],
   "source": [
    "def create_feature_collection_row(row, ix, property_cols):\n",
    "    feature_dict = {}\n",
    "    feature_dict[\"id\"] = ix + 1\n",
    "    feature_dict[\"type\"] = \"Feature\"\n",
    "    feature_dict[\"geometry\"] = {\n",
    "        \"type\": \"Point\", \n",
    "        \"coordinates\": [row.Longitude, row.Latitude]\n",
    "    }\n",
    "    feature_dict[\"properties\"] = json.loads(\n",
    "        row[property_cols].to_json())\n",
    "    \n",
    "    return feature_dict"
   ]
  },
  {
   "cell_type": "markdown",
   "metadata": {},
   "source": [
    "# output data with only building loss ratio"
   ]
  },
  {
   "cell_type": "code",
   "execution_count": 28,
   "metadata": {},
   "outputs": [],
   "source": [
    "property_cols = ['ComLossRatio',\n",
    " 'DaytimeDeaths',\n",
    " 'DaytimeInjuries',\n",
    " 'NighttimeDeaths',\n",
    " 'NighttimeInjuries',\n",
    " 'ResLossRatio',\n",
    " #'geometry',\n",
    " 'id']"
   ]
  },
  {
   "cell_type": "code",
   "execution_count": 32,
   "metadata": {},
   "outputs": [],
   "source": [
    "today_date = dt.datetime.now().strftime('%Y-%m-%d')"
   ]
  },
  {
   "cell_type": "code",
   "execution_count": 33,
   "metadata": {},
   "outputs": [
    {
     "name": "stdout",
     "output_type": "stream",
     "text": [
      "saving file to aebm_loss_casualties_2019-09-30.json\n"
     ]
    }
   ],
   "source": [
    "json_cols = [ \n",
    " 'Longitude', \n",
    " 'Latitude'] + property_cols\n",
    "\n",
    "\n",
    "feature_collections = [\n",
    "    create_feature_collection_row(\n",
    "        aebm_cascadia_gdf[json_cols].iloc[ix], ix,\n",
    "        property_cols\n",
    "    )\n",
    "    for ix in aebm_cascadia_gdf.index\n",
    "]\n",
    "json_body = {\n",
    "    \"count\": 27371,\n",
    "    \"next\": \"http://service.civicpdx.org/disaster-resilience/api/AebmResults/\",\n",
    "    \"previous\": None,\n",
    "    \"results\": {\n",
    "        \"type\": \"FeatureCollection\",\n",
    "        \"features\": feature_collections}\n",
    "}\n",
    "output_file = f\"aebm_loss_casualties_{today_date}.json\"\n",
    "with open(output_file, \"w\") as f:\n",
    "    print(f\"saving file to {output_file}\")\n",
    "    json.dump(json_body, f)"
   ]
  },
  {
   "cell_type": "markdown",
   "metadata": {},
   "source": [
    "# output data with only RES loss ratio"
   ]
  },
  {
   "cell_type": "code",
   "execution_count": null,
   "metadata": {},
   "outputs": [],
   "source": [
    "res_property_cols = [\n",
    " 'RES_loss_ratio',\n",
    "]\n",
    "res_json_cols = [ \n",
    " 'Longitude', \n",
    " 'Latitude'] + res_property_cols\n",
    "\n",
    "\n",
    "res_feature_collections = [\n",
    "    create_feature_collection_row(\n",
    "        aebm_cascadia_gdf[res_json_cols].iloc[ix], ix,\n",
    "        res_property_cols\n",
    "    )\n",
    "    for ix in aebm_cascadia_gdf.index\n",
    "]\n",
    "res_json_body = {\n",
    "    \"count\": 27371,\n",
    "    \"next\": \"http://service.civicpdx.org/disaster-resilience/api/AebmResults/\",\n",
    "    \"previous\": None,\n",
    "    \"results\": {\n",
    "        \"type\": \"FeatureCollection\",\n",
    "        \"features\": res_feature_collections}\n",
    "}\n",
    "with open(\"aebm_res_loss_ratio.json\", \"w\") as f:\n",
    "    json.dump(res_json_body, f)"
   ]
  },
  {
   "cell_type": "markdown",
   "metadata": {},
   "source": [
    "# output data as plain json"
   ]
  },
  {
   "cell_type": "code",
   "execution_count": null,
   "metadata": {},
   "outputs": [],
   "source": [
    "property_cols = [\n",
    " 'id',\n",
    " 'COM_loss_ratio',\n",
    " 'RES_loss_ratio',\n",
    " 'Daytime_injury',\n",
    " 'Daytime_deaths',\n",
    " 'Nighttime_injury',\n",
    " 'Nighttime_deaths'\n",
    "]\n",
    "\n",
    "json_cols = ['eqAebmId',\n",
    " 'geometry',\n",
    " 'COM_loss_ratio',\n",
    " 'RES_loss_ratio',\n",
    " 'Daytime_injury',\n",
    " 'Daytime_deaths',\n",
    " 'Nighttime_injury',\n",
    " 'Nighttime_deaths', \n",
    " 'Longitude', \n",
    " 'Latitude']\n",
    "\n",
    "feature_collections = [\n",
    "    create_feature_collection_row(\n",
    "        aebm_cascadia_gdf[json_cols].iloc[ix], ix,\n",
    "        property_cols\n",
    "    )\n",
    "    for ix in aebm_cascadia_gdf.index\n",
    "]\n",
    "json_body = {\n",
    "    \"count\": 27371,\n",
    "    \"next\": \"http://service.civicpdx.org/disaster-resilience/api/AebmResults/\",\n",
    "    \"previous\": None,\n",
    "    \"results\": {\n",
    "        \"type\": \"FeatureCollection\",\n",
    "        \"features\": feature_collections}\n",
    "}\n",
    "with open(\"aebm_story_cards_plain_json.json\", \"w\") as f:\n",
    "    json.dump(json_body, f)"
   ]
  }
 ],
 "metadata": {
  "kernelspec": {
   "display_name": "Python 3",
   "language": "python",
   "name": "python3"
  },
  "language_info": {
   "codemirror_mode": {
    "name": "ipython",
    "version": 3
   },
   "file_extension": ".py",
   "mimetype": "text/x-python",
   "name": "python",
   "nbconvert_exporter": "python",
   "pygments_lexer": "ipython3",
   "version": "3.6.8"
  }
 },
 "nbformat": 4,
 "nbformat_minor": 2
}
